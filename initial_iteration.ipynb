{
 "cells": [
  {
   "cell_type": "code",
   "execution_count": 14,
   "metadata": {
    "collapsed": false
   },
   "outputs": [],
   "source": [
    "import pandas as pd\n",
    "import numpy as np\n",
    "import re\n",
    "import string"
   ]
  },
  {
   "cell_type": "code",
   "execution_count": 3,
   "metadata": {
    "collapsed": false
   },
   "outputs": [
    {
     "data": {
      "text/html": [
       "<div>\n",
       "<table border=\"1\" class=\"dataframe\">\n",
       "  <thead>\n",
       "    <tr style=\"text-align: right;\">\n",
       "      <th></th>\n",
       "      <th>PhraseId</th>\n",
       "      <th>SentenceId</th>\n",
       "      <th>Phrase</th>\n",
       "    </tr>\n",
       "  </thead>\n",
       "  <tbody>\n",
       "    <tr>\n",
       "      <th>0</th>\n",
       "      <td>156061</td>\n",
       "      <td>8545</td>\n",
       "      <td>An intermittently pleasing but mostly routine ...</td>\n",
       "    </tr>\n",
       "    <tr>\n",
       "      <th>1</th>\n",
       "      <td>156062</td>\n",
       "      <td>8545</td>\n",
       "      <td>An intermittently pleasing but mostly routine ...</td>\n",
       "    </tr>\n",
       "    <tr>\n",
       "      <th>2</th>\n",
       "      <td>156063</td>\n",
       "      <td>8545</td>\n",
       "      <td>An</td>\n",
       "    </tr>\n",
       "    <tr>\n",
       "      <th>3</th>\n",
       "      <td>156064</td>\n",
       "      <td>8545</td>\n",
       "      <td>intermittently pleasing but mostly routine effort</td>\n",
       "    </tr>\n",
       "    <tr>\n",
       "      <th>4</th>\n",
       "      <td>156065</td>\n",
       "      <td>8545</td>\n",
       "      <td>intermittently pleasing but mostly routine</td>\n",
       "    </tr>\n",
       "  </tbody>\n",
       "</table>\n",
       "</div>"
      ],
      "text/plain": [
       "   PhraseId  SentenceId                                             Phrase\n",
       "0    156061        8545  An intermittently pleasing but mostly routine ...\n",
       "1    156062        8545  An intermittently pleasing but mostly routine ...\n",
       "2    156063        8545                                                 An\n",
       "3    156064        8545  intermittently pleasing but mostly routine effort\n",
       "4    156065        8545         intermittently pleasing but mostly routine"
      ]
     },
     "execution_count": 3,
     "metadata": {},
     "output_type": "execute_result"
    }
   ],
   "source": [
    "train = pd.read_csv('train.tsv', sep='\\t')\n",
    "test = pd.read_csv('test.tsv', sep='\\t')\n",
    "\n",
    "test.head()"
   ]
  },
  {
   "cell_type": "markdown",
   "metadata": {},
   "source": [
    "# First Attempt"
   ]
  },
  {
   "cell_type": "markdown",
   "metadata": {},
   "source": [
    "First, we extracted only single words from the training data and saved their sentiment into a dictionary. From our data exploration, we noticed that entire sentences could consist of mostly neutral words, but one key positive or negative term will completely change the sentiment of the sentence. So, for each test sentence, we calculated the sentiment by extracting all the words and just using the sentiment of the word with the most extreme sentiment. It's also worth noting that all of the words in the test data are in the corpus."
   ]
  },
  {
   "cell_type": "code",
   "execution_count": 4,
   "metadata": {
    "collapsed": false
   },
   "outputs": [],
   "source": [
    "# Extracts one-word phrases using a regular expression\n",
    "regexp = re.compile(' ')\n",
    "single_words = train[~train.Phrase.str.contains(' ')]\n",
    "single_words = single_words[single_words.Phrase.str.contains('^[a-zA-Z]+$')]\n",
    "single_words.Phrase = single_words.Phrase.str.lower()\n",
    "\n",
    "# Creates a dictionary mapping words -> sentiment\n",
    "phrase_iter = single_words.Phrase.values\n",
    "sent_iter = single_words.Sentiment.values\n",
    "corpus = dict(zip(phrase_iter, sent_iter))"
   ]
  },
  {
   "cell_type": "markdown",
   "metadata": {},
   "source": [
    "The below code finds the word with the most extreme sentiment and sets the entire sentence's sentiment to be equal to that value."
   ]
  },
  {
   "cell_type": "code",
   "execution_count": 7,
   "metadata": {
    "collapsed": false
   },
   "outputs": [
    {
     "data": {
      "text/plain": [
       "0    4\n",
       "1    4\n",
       "2    2\n",
       "3    4\n",
       "4    4\n",
       "Name: Phrase, dtype: int64"
      ]
     },
     "execution_count": 7,
     "metadata": {},
     "output_type": "execute_result"
    }
   ],
   "source": [
    "test_sentence = test[:1]\n",
    "\n",
    "''' Splits the phrase into a list of words '''\n",
    "def get_words(phrase):\n",
    "    words = phrase.split()\n",
    "    new_words = []\n",
    "    for w in words:\n",
    "        new_words.append(w.lower().strip('.,;!?\"()'))\n",
    "    \n",
    "    return new_words\n",
    "\n",
    "''' Gets the most extreme sentiment value in the sentence and returns it '''\n",
    "def get_sentiment(phrase):\n",
    "    words = get_words(phrase)\n",
    "    most_sentiment = 2\n",
    "    \n",
    "    for w in words:\n",
    "        if w in corpus:\n",
    "            sentiment = corpus[w]\n",
    "            if abs(sentiment - 2) >= abs(most_sentiment - 2):\n",
    "                most_sentiment = sentiment\n",
    "        \n",
    "    return most_sentiment\n",
    "\n",
    "# Predicts the first 5 sentiment values\n",
    "test.Phrase.apply(get_sentiment)[:5]"
   ]
  },
  {
   "cell_type": "markdown",
   "metadata": {},
   "source": [
    "After applying this to the training data, we actually got a relatively high accuracy."
   ]
  },
  {
   "cell_type": "code",
   "execution_count": 5,
   "metadata": {
    "collapsed": false
   },
   "outputs": [
    {
     "name": "stdout",
     "output_type": "stream",
     "text": [
      "Train accuracy: 0.53044982699\n"
     ]
    }
   ],
   "source": [
    "train_predictions = train.Phrase.apply(get_sentiment)\n",
    "print \"Train accuracy: \" + str(len(train[train.Sentiment == train_predictions]) / float(len(train)))"
   ]
  },
  {
   "cell_type": "code",
   "execution_count": 8,
   "metadata": {
    "collapsed": true
   },
   "outputs": [],
   "source": [
    "# Generates the csv file\n",
    "predictions = test.Phrase.apply(get_sentiment)\n",
    "submission = pd.DataFrame({\n",
    "        \"PhraseId\": test[\"PhraseId\"],\n",
    "        \"Sentiment\": predictions\n",
    "    })\n",
    "\n",
    "submission.to_csv(\"submission_iteration1.csv\", index=False)"
   ]
  },
  {
   "cell_type": "markdown",
   "metadata": {},
   "source": [
    "Using this model, we achieved an accuracy on Kaggle of 54.682%."
   ]
  },
  {
   "cell_type": "markdown",
   "metadata": {},
   "source": [
    "# Second Attempt"
   ]
  },
  {
   "cell_type": "markdown",
   "metadata": {},
   "source": [
    "In an attempt to improve our model, we tried applying the Naive Bayes model to the data. In order to calculate $P(c\\:|\\:w)$, the probability of the words belonging to a particular sentiment class, we calculated $P(c)$, the probability of each sentiment class occurring in the data, and $P(w\\: |\\: c)$, the probability of a particular word appearing in a sentiment class."
   ]
  },
  {
   "cell_type": "code",
   "execution_count": 13,
   "metadata": {
    "collapsed": false
   },
   "outputs": [
    {
     "name": "stdout",
     "output_type": "stream",
     "text": [
      "Pr{Sentiment 0}: 0.0453\n",
      "Pr{Sentiment 1}: 0.1747\n",
      "Pr{Sentiment 2}: 0.5099\n",
      "Pr{Sentiment 3}: 0.2109\n",
      "Pr{Sentiment 4}: 0.0589\n"
     ]
    }
   ],
   "source": [
    "# Calculates the probability of any given phrase having a particular sentiment\n",
    "P_c = []\n",
    "for i in range(5):\n",
    "    prob = len(train[train.Sentiment == i]) / float(len(train))\n",
    "    P_c.append(prob)\n",
    "    \n",
    "print \"Pr{Sentiment 0}: \" + str(P_c[0])[:6]\n",
    "print \"Pr{Sentiment 1}: \" + str(P_c[1])[:6]\n",
    "print \"Pr{Sentiment 2}: \" + str(P_c[2])[:6]\n",
    "print \"Pr{Sentiment 3}: \" + str(P_c[3])[:6]\n",
    "print \"Pr{Sentiment 4}: \" + str(P_c[4])[:6]"
   ]
  },
  {
   "cell_type": "code",
   "execution_count": 17,
   "metadata": {
    "collapsed": false
   },
   "outputs": [
    {
     "name": "stdout",
     "output_type": "stream",
     "text": [
      "How many times does the word \"exciting\" appear in sentiment 4 phrases?\n",
      "8\n"
     ]
    }
   ],
   "source": [
    "# Extracts just the sentences from the dataset and combines them into mega-strings\n",
    "sentences_dict = train['SentenceId'].drop_duplicates()\n",
    "sentences = train.iloc[sentences_dict.keys()]\n",
    "sentences.head()\n",
    "\n",
    "# For each sentiment's mega-string, counts the number of times each word appears\n",
    "text = []\n",
    "for i in range(5):\n",
    "    d = {}\n",
    "    temp = sentences[sentences.Sentiment == i]\n",
    "    words_in_class = ' '.join(temp.Phrase.values).lower().split()\n",
    "    for w in words_in_class:\n",
    "        new_word = w.lower().strip('.,;!?\"()')\n",
    "        if not new_word.strip(string.ascii_letters) and new_word != '':\n",
    "            d[new_word] = d.get(new_word,0) + 1\n",
    "\n",
    "    text.append(d)\n",
    "\n",
    "print \"How many times does the word \\\"exciting\\\" appear in sentiment 4 phrases?\"\n",
    "print text[4]['exciting']"
   ]
  },
  {
   "cell_type": "code",
   "execution_count": 19,
   "metadata": {
    "collapsed": false
   },
   "outputs": [
    {
     "name": "stdout",
     "output_type": "stream",
     "text": [
      "Probability of the word \"yellow\" appearing in a sentiment 2 phrase: \n",
      "5.01957634776e-05\n"
     ]
    }
   ],
   "source": [
    "# Calculates the probability of a word being in a particular class for every word in the corpus\n",
    "P_wc = []\n",
    "alpha = 1.0 # Laplace smoothing\n",
    "for d in text:\n",
    "    n_words_in_class = sum(d.values())\n",
    "    new_dict = {}\n",
    "    for w in corpus:\n",
    "        if w in d:\n",
    "            new_dict[w] = (d[w] + alpha) / (n_words_in_class + len(corpus))\n",
    "        else:\n",
    "            new_dict[w] = alpha / len(corpus)\n",
    "    P_wc.append(new_dict)\n",
    "    \n",
    "print \"Probability of the word \\\"yellow\\\" appearing in a sentiment 2 phrase: \"\n",
    "print P_wc[2]['yellow']"
   ]
  },
  {
   "cell_type": "markdown",
   "metadata": {},
   "source": [
    "Now that the right probability values have been calculated, the Naive Bayes method must first extract all of the words in the phrase. For each sentiment class, the algorithm gets $P(w\\:|\\:c)$ for each word in the phrase and multiplies all of the probabilities together. This product then gets multiplied by $P(c)$. The overall equation looks like the following:\n",
    "\n",
    "$c = \\max_\\limits{c\\:\\in\\:C}\\:\\Big( P(c)\\: \\cdot \\prod_\\limits{x\\:\\in\\:X} P(x\\:|\\:c)\\Big)$"
   ]
  },
  {
   "cell_type": "code",
   "execution_count": 22,
   "metadata": {
    "collapsed": false
   },
   "outputs": [],
   "source": [
    "''' Calculates the sentiment of a phrase using a Naive bayes classifier '''\n",
    "def naive_bayes(phrase):\n",
    "    words = get_words(phrase)\n",
    "    P_cw = 0 # Probability that the phrase has a sentiment c \n",
    "    \n",
    "    for s in range(5):\n",
    "        # Probability of the sentiment occurring\n",
    "        prob = P_c[s]\n",
    "        \n",
    "        # Probability of the word appearing in the sentiment class\n",
    "        for w in words:\n",
    "            if w in corpus:\n",
    "                prob *= P_wc[s][w]\n",
    "            \n",
    "        if prob > P_cw:\n",
    "            P_cw = prob\n",
    "            sentiment = s\n",
    "        \n",
    "    return sentiment"
   ]
  },
  {
   "cell_type": "markdown",
   "metadata": {},
   "source": [
    "After applying the Naive Bayes classifier to the training data, we got about the same accuracy as for the first attempt."
   ]
  },
  {
   "cell_type": "code",
   "execution_count": 23,
   "metadata": {
    "collapsed": false
   },
   "outputs": [
    {
     "name": "stdout",
     "output_type": "stream",
     "text": [
      "Train accuracy: 0.522516980648\n"
     ]
    }
   ],
   "source": [
    "train_predictions = train.Phrase.apply(naive_bayes)\n",
    "print \"Train accuracy: \" + str(len(train[train.Sentiment == train_predictions]) / float(len(train)))"
   ]
  },
  {
   "cell_type": "code",
   "execution_count": 24,
   "metadata": {
    "collapsed": true
   },
   "outputs": [],
   "source": [
    "# Generates the csv file\n",
    "predictions = test.Phrase.apply(naive_bayes)\n",
    "submission = pd.DataFrame({\n",
    "        \"PhraseId\": test[\"PhraseId\"],\n",
    "        \"Sentiment\": predictions\n",
    "    })\n",
    "\n",
    "submission.to_csv(\"submission_iteration2.csv\", index=False)"
   ]
  },
  {
   "cell_type": "markdown",
   "metadata": {},
   "source": [
    "The score we got on Kaggle for this submission was 52.682%, which is slightly lower than before."
   ]
  },
  {
   "cell_type": "code",
   "execution_count": null,
   "metadata": {
    "collapsed": true
   },
   "outputs": [],
   "source": []
  }
 ],
 "metadata": {
  "kernelspec": {
   "display_name": "Python 2",
   "language": "python",
   "name": "python2"
  },
  "language_info": {
   "codemirror_mode": {
    "name": "ipython",
    "version": 2
   },
   "file_extension": ".py",
   "mimetype": "text/x-python",
   "name": "python",
   "nbconvert_exporter": "python",
   "pygments_lexer": "ipython2",
   "version": "2.7.11"
  }
 },
 "nbformat": 4,
 "nbformat_minor": 0
}
