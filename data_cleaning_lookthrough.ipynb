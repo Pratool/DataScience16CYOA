{
 "cells": [
  {
   "cell_type": "markdown",
   "metadata": {},
   "source": [
    "# Cleaning and Examining Data"
   ]
  },
  {
   "cell_type": "code",
   "execution_count": 4,
   "metadata": {
    "collapsed": false
   },
   "outputs": [],
   "source": [
    "import pandas\n",
    "import seaborn as sns\n",
    "import matplotlib.pyplot as plt\n",
    "\n",
    "df = pandas.DataFrame.from_csv('train.tsv', sep='\\t')"
   ]
  },
  {
   "cell_type": "code",
   "execution_count": 5,
   "metadata": {
    "collapsed": false
   },
   "outputs": [],
   "source": [
    "# looks for any commas, periods, and apostrophes with any leading or following spaces\n",
    "remove_punct = r'(( )*((\\.)|(\\'s*)|(,))( )*)'\n",
    "\n",
    "# remove leading and trailing spaces\n",
    "remove_spaces = r'(^( )*)|(( )*$)'\n",
    "\n",
    "# replaces the pattern mentioned above with a single space\n",
    "df['Phrase'] = df['Phrase'].str.replace(remove_punct, ' ')\n",
    "df = df[df['Phrase'] != ' ']\n",
    "df['Phrase'] = df['Phrase'].str.replace(remove_spaces, '')"
   ]
  },
  {
   "cell_type": "code",
   "execution_count": 6,
   "metadata": {
    "collapsed": false
   },
   "outputs": [],
   "source": [
    "B = []\n",
    "before = \"\"\n",
    "for r in df['Phrase']:\n",
    "    if r != before:\n",
    "        B.append(True)\n",
    "        before = r\n",
    "    else:\n",
    "        B.append(False)\n",
    "df = df[B]"
   ]
  },
  {
   "cell_type": "code",
   "execution_count": 7,
   "metadata": {
    "collapsed": false
   },
   "outputs": [
    {
     "name": "stdout",
     "output_type": "stream",
     "text": [
      "0 A series of escapades demonstrating the adage that what is good for the goose is also good for the gander some of which occasionally amuses but none of which amounts to much of a story\n",
      "\n",
      "1 A series of escapades demonstrating the adage that what is good for the goose\n",
      "\n",
      "2 A series\n",
      "\n",
      "3 A\n",
      "\n",
      "4 series\n",
      "\n",
      "5 of escapades demonstrating the adage that what is good for the goose\n",
      "\n",
      "6 of\n",
      "\n",
      "7 escapades demonstrating the adage that what is good for the goose\n",
      "\n",
      "8 escapades\n",
      "\n",
      "9 demonstrating the adage that what is good for the goose\n",
      "\n",
      "10 demonstrating the adage\n",
      "\n",
      "11 demonstrating\n",
      "\n",
      "12 the adage\n",
      "\n",
      "13 the\n",
      "\n",
      "14 adage\n",
      "\n",
      "15 that what is good for the goose\n",
      "\n",
      "16 that\n",
      "\n",
      "17 what is good for the goose\n",
      "\n",
      "18 what\n",
      "\n",
      "19 is good for the goose\n",
      "\n",
      "20 is\n",
      "\n",
      "21 good for the goose\n",
      "\n",
      "22 good\n",
      "\n",
      "23 for the goose\n",
      "\n",
      "24 for\n",
      "\n",
      "25 the goose\n",
      "\n",
      "26 goose\n",
      "\n",
      "27 is also good for the gander some of which occasionally amuses but none of which amounts to much of a story\n",
      "\n",
      "28 is also\n",
      "\n",
      "29 also\n",
      "\n",
      "30 good for the gander some of which occasionally amuses but none of which amounts to much of a story\n",
      "\n",
      "31 for the gander some of which occasionally amuses but none of which amounts to much of a story\n",
      "\n",
      "32 the gander some of which occasionally amuses but none of which amounts to much of a story\n",
      "\n",
      "33 the gander\n",
      "\n",
      "34 gander\n",
      "\n",
      "35 some of which occasionally amuses but none of which amounts to much of a story\n",
      "\n",
      "36 some of which\n",
      "\n",
      "37 some\n",
      "\n",
      "38 of which\n",
      "\n",
      "39 which\n",
      "\n",
      "40 occasionally amuses but none of which amounts to much of a story\n",
      "\n",
      "41 occasionally\n",
      "\n",
      "42 amuses but none of which amounts to much of a story\n",
      "\n",
      "43 amuses\n",
      "\n",
      "44 but none of which amounts to much of a story\n",
      "\n",
      "45 but\n",
      "\n",
      "46 none of which amounts to much of a story\n",
      "\n",
      "47 none\n",
      "\n",
      "48 of which amounts to much of a story\n",
      "\n",
      "49 which amounts to much of a story\n",
      "\n",
      "50 amounts to much of a story\n",
      "\n",
      "51 amounts\n",
      "\n",
      "52 to much of a story\n",
      "\n",
      "53 to\n",
      "\n",
      "54 much of a story\n",
      "\n",
      "55 much\n",
      "\n",
      "56 of a story\n",
      "\n",
      "57 a story\n",
      "\n",
      "58 story\n",
      "\n",
      "59 This quiet introspective and entertaining independent is worth seeking\n",
      "\n",
      "60 This quiet introspective and entertaining independent\n",
      "\n",
      "61 This\n",
      "\n",
      "62 quiet introspective and entertaining independent\n",
      "\n",
      "63 quiet introspective and entertaining\n",
      "\n",
      "64 quiet\n",
      "\n",
      "65 introspective and entertaining\n",
      "\n",
      "66 introspective and\n",
      "\n",
      "67 introspective\n",
      "\n",
      "68 and\n",
      "\n",
      "69 entertaining\n",
      "\n",
      "70 independent\n",
      "\n",
      "71 is worth seeking\n",
      "\n",
      "72 is worth\n",
      "\n",
      "73 worth\n",
      "\n",
      "74 seeking\n",
      "\n",
      "75 Even fans of Ismail Merchant work I suspect would have a hard time sitting through this one\n",
      "\n",
      "76 Even fans of Ismail Merchant work\n",
      "\n",
      "77 Even fans\n",
      "\n",
      "78 Even\n",
      "\n",
      "79 fans\n",
      "\n"
     ]
    }
   ],
   "source": [
    "i = 0\n",
    "for col in df['Phrase'].head(80):\n",
    "    print i, col\n",
    "    print\n",
    "    i += 1"
   ]
  },
  {
   "cell_type": "code",
   "execution_count": 8,
   "metadata": {
    "collapsed": true
   },
   "outputs": [],
   "source": [
    "class Node:\n",
    "    def __init__(self, phrase, parent, left, right):\n",
    "        self.parent = parent\n",
    "        self.left = left\n",
    "        self.right = right\n",
    "        self.phrase = phrase\n",
    "    def get_left(self):\n",
    "        return self.left\n",
    "    def get_right(self):\n",
    "        return self.right\n",
    "    def get_parent(self):\n",
    "        return self.parent\n",
    "    def set_left(self, left):\n",
    "        self.left = left\n",
    "    def set_right(self, right):\n",
    "        self.right = right"
   ]
  },
  {
   "cell_type": "code",
   "execution_count": 9,
   "metadata": {
    "collapsed": false
   },
   "outputs": [
    {
     "name": "stdout",
     "output_type": "stream",
     "text": [
      "['This quiet introspective and entertaining independent', 'This', 'quiet introspective and entertaining independent', 'quiet introspective and entertaining', 'quiet', 'introspective and entertaining', 'introspective and', 'introspective', 'and', 'entertaining', 'independent', 'is worth seeking', 'is worth', 'worth', 'seeking']\n"
     ]
    }
   ],
   "source": [
    "root = Node(\"This quiet introspective and entertaining independent is worth seeking\", 0, 0, 0)\n",
    "phr = []\n",
    "top80 = df['Phrase'].head(80)\n",
    "j = 0\n",
    "for r in top80:\n",
    "    if j > 59 and j <= 74:\n",
    "        phr.append(r)\n",
    "    j += 1\n",
    "print phr"
   ]
  },
  {
   "cell_type": "code",
   "execution_count": 10,
   "metadata": {
    "collapsed": false
   },
   "outputs": [],
   "source": [
    "import pydot\n",
    "\n",
    "colors = {1: \"#F183B3\", 2: \"#E26E6E\", 3: \"#DB1F2A\", 4: \"#FF1100\", 5: \"#CA002A\"}\n",
    "\n",
    "def make_phrase_ptree(root, phrases, graph):\n",
    "    if len(phrases) == 0:\n",
    "        print \"error: ran out of phrases\"\n",
    "        return\n",
    "    if ' ' not in root.phrase:\n",
    "        f(root.parent, phrases, graph)\n",
    "    elif root.left == 0:\n",
    "        root.left = Node(phrases[0], root, 0, 0)\n",
    "        edge = pydot.Edge(root.phrase, phrases[0])\n",
    "        graph.add_edge(edge)\n",
    "        f(root.left, phrases[1:], graph)\n",
    "    elif root.right == 0:\n",
    "        root.right = Node(phrases[0], root, 0, 0)\n",
    "        edge = pydot.Edge(root.phrase, phrases[0])\n",
    "        graph.add_edge(edge)\n",
    "        f(root.right, phrases[1:], graph)\n",
    "    elif root.parent == 0:\n",
    "        return root\n",
    "    else:\n",
    "        f(root.parent, phrases, graph)\n",
    "        \n",
    "def make_sentiment_ptree(root, phrases, graph):\n",
    "    if len(phrases) == 0:\n",
    "        print \"error: ran out of phrases\"\n",
    "        return\n",
    "    if ' ' not in root.phrase:\n",
    "        f(root.parent, phrases, graph)\n",
    "    elif root.left == 0:\n",
    "        root.left = pydot.Node(phrases[0], root, 0, 0)\n",
    "        edge = pydot.Edge(root.phrase, phrases[0])\n",
    "        graph.add_edge(edge)\n",
    "        f(root.left, phrases[1:], graph)\n",
    "    elif root.right == 0:\n",
    "        root.right = Node(phrases[0], root, 0, 0)\n",
    "        edge = pydot.Edge(root.phrase, phrases[0])\n",
    "        graph.add_edge(edge)\n",
    "        f(root.right, phrases[1:], graph)\n",
    "    elif root.parent == 0:\n",
    "        return root\n",
    "    else:\n",
    "        f(root.parent, phrases, graph)"
   ]
  },
  {
   "cell_type": "code",
   "execution_count": 11,
   "metadata": {
    "collapsed": false
   },
   "outputs": [
    {
     "name": "stdout",
     "output_type": "stream",
     "text": [
      "error: ran out of phrases\n"
     ]
    }
   ],
   "source": [
    "grph = pydot.Dot(graph_type='graph')\n",
    "rootnode = pydot.Node(\"Node B\", style=\"filled\", fillcolor=\"green\")\n",
    "root2 = f(root, phr, grph)"
   ]
  },
  {
   "cell_type": "code",
   "execution_count": 14,
   "metadata": {
    "collapsed": false
   },
   "outputs": [
    {
     "data": {
      "text/plain": [
       "True"
      ]
     },
     "execution_count": 14,
     "metadata": {},
     "output_type": "execute_result"
    }
   ],
   "source": [
    "grph.write_png('ex.png')"
   ]
  }
 ],
 "metadata": {
  "kernelspec": {
   "display_name": "Python 2",
   "language": "python2",
   "name": "python2"
  },
  "language_info": {
   "codemirror_mode": {
    "name": "ipython",
    "version": 2
   },
   "file_extension": ".py",
   "mimetype": "text/x-python",
   "name": "python",
   "nbconvert_exporter": "python",
   "pygments_lexer": "ipython2",
   "version": "2.7.11"
  }
 },
 "nbformat": 4,
 "nbformat_minor": 0
}
