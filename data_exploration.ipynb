{
 "cells": [
  {
   "cell_type": "code",
   "execution_count": 1,
   "metadata": {
    "collapsed": false
   },
   "outputs": [
    {
     "name": "stderr",
     "output_type": "stream",
     "text": [
      "/home/wooj/anaconda2/lib/python2.7/site-packages/matplotlib/font_manager.py:273: UserWarning: Matplotlib is building the font cache using fc-list. This may take a moment.\n",
      "  warnings.warn('Matplotlib is building the font cache using fc-list. This may take a moment.')\n"
     ]
    }
   ],
   "source": [
    "import pandas as pd\n",
    "import numpy as np\n",
    "import re\n",
    "import operator\n",
    "import seaborn as sns\n",
    "import matplotlib.pyplot as plt\n",
    "%matplotlib inline"
   ]
  },
  {
   "cell_type": "markdown",
   "metadata": {},
   "source": [
    "From our initial exploration, we found that the data was organized in a binary-tree structure - each phrase breaks off into two smaller phrases."
   ]
  },
  {
   "cell_type": "code",
   "execution_count": 2,
   "metadata": {
    "collapsed": false
   },
   "outputs": [
    {
     "data": {
      "text/html": [
       "<div>\n",
       "<table border=\"1\" class=\"dataframe\">\n",
       "  <thead>\n",
       "    <tr style=\"text-align: right;\">\n",
       "      <th></th>\n",
       "      <th>PhraseId</th>\n",
       "      <th>SentenceId</th>\n",
       "      <th>Phrase</th>\n",
       "      <th>Sentiment</th>\n",
       "    </tr>\n",
       "  </thead>\n",
       "  <tbody>\n",
       "    <tr>\n",
       "      <th>0</th>\n",
       "      <td>1</td>\n",
       "      <td>1</td>\n",
       "      <td>A series of escapades demonstrating the adage ...</td>\n",
       "      <td>1</td>\n",
       "    </tr>\n",
       "    <tr>\n",
       "      <th>1</th>\n",
       "      <td>2</td>\n",
       "      <td>1</td>\n",
       "      <td>A series of escapades demonstrating the adage ...</td>\n",
       "      <td>2</td>\n",
       "    </tr>\n",
       "    <tr>\n",
       "      <th>2</th>\n",
       "      <td>3</td>\n",
       "      <td>1</td>\n",
       "      <td>A series</td>\n",
       "      <td>2</td>\n",
       "    </tr>\n",
       "    <tr>\n",
       "      <th>3</th>\n",
       "      <td>4</td>\n",
       "      <td>1</td>\n",
       "      <td>A</td>\n",
       "      <td>2</td>\n",
       "    </tr>\n",
       "    <tr>\n",
       "      <th>4</th>\n",
       "      <td>5</td>\n",
       "      <td>1</td>\n",
       "      <td>series</td>\n",
       "      <td>2</td>\n",
       "    </tr>\n",
       "  </tbody>\n",
       "</table>\n",
       "</div>"
      ],
      "text/plain": [
       "   PhraseId  SentenceId                                             Phrase  \\\n",
       "0         1           1  A series of escapades demonstrating the adage ...   \n",
       "1         2           1  A series of escapades demonstrating the adage ...   \n",
       "2         3           1                                           A series   \n",
       "3         4           1                                                  A   \n",
       "4         5           1                                             series   \n",
       "\n",
       "   Sentiment  \n",
       "0          1  \n",
       "1          2  \n",
       "2          2  \n",
       "3          2  \n",
       "4          2  "
      ]
     },
     "execution_count": 2,
     "metadata": {},
     "output_type": "execute_result"
    }
   ],
   "source": [
    "train = pd.read_csv('train.tsv', sep='\\t')\n",
    "test = pd.read_csv('test.tsv', sep='\\t')\n",
    "\n",
    "train.head()"
   ]
  },
  {
   "cell_type": "markdown",
   "metadata": {},
   "source": [
    "We plotted the counts for each of the sentiment classes to roughly observe the distribution of the data."
   ]
  },
  {
   "cell_type": "code",
   "execution_count": 3,
   "metadata": {
    "collapsed": false
   },
   "outputs": [
    {
     "data": {
      "image/png": "[encoded data removed]",
      "text/plain": [
       "<matplotlib.figure.Figure at 0x7f9d1dac2890>"
      ]
     },
     "metadata": {},
     "output_type": "display_data"
    }
   ],
   "source": [
    "# Plots the sentiment histogram on a semilog-y plot\n",
    "sns.countplot(x=\"Sentiment\", data=train, palette=\"Greens_d\")\n",
    "plt.title(\"Histogram of Phrase Sentiment\")\n",
    "plt.ylabel(\"Count\")\n",
    "plt.yscale('log')"
   ]
  },
  {
   "cell_type": "markdown",
   "metadata": {},
   "source": [
    "We then looked at all of the one-word phrases to see if we can find any noticeable patterns. We printed a few of the words in each class to see if our script worked."
   ]
  },
  {
   "cell_type": "code",
   "execution_count": 4,
   "metadata": {
    "collapsed": false,
    "scrolled": true
   },
   "outputs": [
    {
     "name": "stdout",
     "output_type": "stream",
     "text": [
      "0:\n",
      "['hate' 'avoid' 'bad' 'impossible' 'fails']\n",
      "\n",
      "1:\n",
      "['deceit' 'murder' 'tragedy' 'trouble' 'plodding']\n",
      "\n",
      "2:\n",
      "['a' 'series' 'of' 'escapades' 'demonstrating']\n",
      "\n",
      "3:\n",
      "['good' 'amuses' 'fans' 'positively' 'intrigue']\n",
      "\n",
      "4:\n",
      "['entertaining' 'thrilling' 'joy' 'extravagant' 'better']\n"
     ]
    }
   ],
   "source": [
    "# Extracts one-word phrases using a regular expression\n",
    "regexp = re.compile(' ')\n",
    "words = train[~train.Phrase.str.contains(' ')]\n",
    "words = words[words.Phrase.str.contains('^[a-zA-Z]+$')]\n",
    "words.Phrase = words.Phrase.str.lower()\n",
    "\n",
    "# Organizes words by sentiment\n",
    "classes = [words[words.Sentiment == 0],\n",
    "           words[words.Sentiment == 1],\n",
    "           words[words.Sentiment == 2],\n",
    "           words[words.Sentiment == 3],\n",
    "           words[words.Sentiment == 4]]\n",
    "\n",
    "# Prints a few words from each sentiment class\n",
    "print \"0:\"\n",
    "print classes[0].Phrase.unique()[0:5]\n",
    "print \"\"\n",
    "print \"1:\"\n",
    "print classes[1].Phrase.unique()[0:5]\n",
    "print \"\"\n",
    "print \"2:\"\n",
    "print classes[2].Phrase.unique()[0:5]\n",
    "print \"\"\n",
    "print \"3:\"\n",
    "print classes[3].Phrase.unique()[0:5]\n",
    "print \"\"\n",
    "print \"4:\"\n",
    "print classes[4].Phrase.unique()[0:5]"
   ]
  },
  {
   "cell_type": "markdown",
   "metadata": {},
   "source": [
    "We noticed that a lot of the data in the neutral class consisted of articles, conjunctions, and other short, miscellaneous words. So, we plotted a histogram of word sentiment using hue to represent the length of each word. We noticed that there are very few non-neutral words in the data, and the proportion of the neutral words drops off significantly as the length of the word increases. "
   ]
  },
  {
   "cell_type": "code",
   "execution_count": 5,
   "metadata": {
    "collapsed": false
   },
   "outputs": [
    {
     "data": {
      "text/plain": [
       "<matplotlib.text.Text at 0x7f9d1f6cc9d0>"
      ]
     },
     "execution_count": 5,
     "metadata": {},
     "output_type": "execute_result"
    },
    {
     "data": {
      "image/png": "[encoded data removed]",
      "text/plain": [
       "<matplotlib.figure.Figure at 0x7f9d1edae810>"
      ]
     },
     "metadata": {},
     "output_type": "display_data"
    }
   ],
   "source": [
    "# Plots a histogram of the word sentiment, by word length\n",
    "plt.figure(figsize=(15, 6))\n",
    "ax = sns.countplot(x=\"Sentiment\", data=words, hue=words.Phrase.str.len(), palette=\"Greens_d\")\n",
    "ax.legend().set_visible(False)\n",
    "plt.title(\"Histogram of Word Sentiment (Hue = Word Length)\")\n",
    "plt.ylabel(\"Count\")"
   ]
  },
  {
   "cell_type": "markdown",
   "metadata": {},
   "source": [
    "In addition to single-word phrases, we also looked into phrases that consist of two or more words. As the number of words starts to increase, we noticed that the relative amount of neutral phrases decreases."
   ]
  },
  {
   "cell_type": "code",
   "execution_count": 6,
   "metadata": {
    "collapsed": false
   },
   "outputs": [
    {
     "name": "stderr",
     "output_type": "stream",
     "text": [
      "/home/wooj/anaconda2/lib/python2.7/site-packages/pandas/core/generic.py:2387: SettingWithCopyWarning: \n",
      "A value is trying to be set on a copy of a slice from a DataFrame.\n",
      "Try using .loc[row_indexer,col_indexer] = value instead\n",
      "\n",
      "See the caveats in the documentation: http://pandas.pydata.org/pandas-docs/stable/indexing.html#indexing-view-versus-copy\n",
      "  self[name] = value\n"
     ]
    },
    {
     "data": {
      "image/png": "[encoded data removed]",
      "text/plain": [
       "<matplotlib.figure.Figure at 0x7f9d1b1fdf90>"
      ]
     },
     "metadata": {},
     "output_type": "display_data"
    }
   ],
   "source": [
    "two_words = train[train.Phrase.str.contains('^[A-Za-z]* [A-Za-z]*$')]\n",
    "two_words.Phrase = train.Phrase.str.lower()\n",
    "\n",
    "seven_words = train[train.Phrase.str.contains('^[A-Za-z]* [A-Za-z]* [A-Za-z]* [A-Za-z]* [A-Za-z]* [A-Za-z]* [A-Za-z]*$')]\n",
    "seven_words.Phrase = train.Phrase.str.lower()\n",
    "\n",
    "plt.figure(figsize=(10, 6))\n",
    "plt.subplot(1,2,1)\n",
    "sns.countplot(x=\"Sentiment\", data=two_words, palette=\"Greens_d\")\n",
    "plt.title(\"Histogram of Word Sentiment (Two Words)\")\n",
    "plt.ylabel(\"Count\")\n",
    "# plt.yscale('log')\n",
    "plt.ylim([0, 1.6e4])\n",
    "\n",
    "plt.subplot(1,2,2)\n",
    "sns.countplot(x=\"Sentiment\", data=seven_words, palette=\"Greens_d\")\n",
    "plt.title(\"Histogram of Word Sentiment (Seven Words)\")\n",
    "plt.ylabel(\"Count\")\n",
    "# plt.yscale('log')\n",
    "plt.ylim([0, 1.6e4])\n",
    "\n",
    "plt.tight_layout(pad=0.4, w_pad=0.5, h_pad=1.0)"
   ]
  },
  {
   "cell_type": "markdown",
   "metadata": {},
   "source": [
    "We also looked at full sentences to observe their sentiment distribution. The number of items in the neutral class significantly decreased, while the number of somewhat negative (1) and somewhat positive (3) items increased."
   ]
  },
  {
   "cell_type": "code",
   "execution_count": 7,
   "metadata": {
    "collapsed": false
   },
   "outputs": [
    {
     "data": {
      "text/html": [
       "<div>\n",
       "<table border=\"1\" class=\"dataframe\">\n",
       "  <thead>\n",
       "    <tr style=\"text-align: right;\">\n",
       "      <th></th>\n",
       "      <th>PhraseId</th>\n",
       "      <th>SentenceId</th>\n",
       "      <th>Phrase</th>\n",
       "      <th>Sentiment</th>\n",
       "    </tr>\n",
       "  </thead>\n",
       "  <tbody>\n",
       "    <tr>\n",
       "      <th>0</th>\n",
       "      <td>1</td>\n",
       "      <td>1</td>\n",
       "      <td>A series of escapades demonstrating the adage ...</td>\n",
       "      <td>1</td>\n",
       "    </tr>\n",
       "    <tr>\n",
       "      <th>63</th>\n",
       "      <td>64</td>\n",
       "      <td>2</td>\n",
       "      <td>This quiet , introspective and entertaining in...</td>\n",
       "      <td>4</td>\n",
       "    </tr>\n",
       "    <tr>\n",
       "      <th>81</th>\n",
       "      <td>82</td>\n",
       "      <td>3</td>\n",
       "      <td>Even fans of Ismail Merchant 's work , I suspe...</td>\n",
       "      <td>1</td>\n",
       "    </tr>\n",
       "    <tr>\n",
       "      <th>116</th>\n",
       "      <td>117</td>\n",
       "      <td>4</td>\n",
       "      <td>A positively thrilling combination of ethnogra...</td>\n",
       "      <td>3</td>\n",
       "    </tr>\n",
       "    <tr>\n",
       "      <th>156</th>\n",
       "      <td>157</td>\n",
       "      <td>5</td>\n",
       "      <td>Aggressive self-glorification and a manipulati...</td>\n",
       "      <td>1</td>\n",
       "    </tr>\n",
       "  </tbody>\n",
       "</table>\n",
       "</div>"
      ],
      "text/plain": [
       "     PhraseId  SentenceId                                             Phrase  \\\n",
       "0           1           1  A series of escapades demonstrating the adage ...   \n",
       "63         64           2  This quiet , introspective and entertaining in...   \n",
       "81         82           3  Even fans of Ismail Merchant 's work , I suspe...   \n",
       "116       117           4  A positively thrilling combination of ethnogra...   \n",
       "156       157           5  Aggressive self-glorification and a manipulati...   \n",
       "\n",
       "     Sentiment  \n",
       "0            1  \n",
       "63           4  \n",
       "81           1  \n",
       "116          3  \n",
       "156          1  "
      ]
     },
     "execution_count": 7,
     "metadata": {},
     "output_type": "execute_result"
    }
   ],
   "source": [
    "# Only extracts the sentences from the dataset\n",
    "sentences_dict = train['SentenceId'].drop_duplicates()\n",
    "sentences = train.iloc[sentences_dict.keys()]\n",
    "sentences.head()"
   ]
  },
  {
   "cell_type": "code",
   "execution_count": 8,
   "metadata": {
    "collapsed": false
   },
   "outputs": [
    {
     "data": {
      "text/plain": [
       "<matplotlib.text.Text at 0x7f9d1ea9fd50>"
      ]
     },
     "execution_count": 8,
     "metadata": {},
     "output_type": "execute_result"
    },
    {
     "data": {
      "image/png": "[encoded data removed]",
      "text/plain": [
       "<matplotlib.figure.Figure at 0x7f9d1ec09890>"
      ]
     },
     "metadata": {},
     "output_type": "display_data"
    }
   ],
   "source": [
    "sns.countplot(x=\"Sentiment\", data=sentences, palette=\"Greens_d\")\n",
    "plt.title(\"Histogram of Sentence Sentiment\")\n",
    "plt.ylabel(\"Count\")"
   ]
  },
  {
   "cell_type": "markdown",
   "metadata": {},
   "source": [
    "Since we are thinking of using a Naive Bayes approach to the model, we tried calculating the average sentiment of all the phrases that branch off of each sentence. We then compared this to the actual sentiment of the sentence to see if they matched up. Our basic model, however, does not seem to match up well to the actual sentiment of each sentence."
   ]
  },
  {
   "cell_type": "code",
   "execution_count": 9,
   "metadata": {
    "collapsed": false
   },
   "outputs": [
    {
     "data": {
      "text/html": [
       "<div>\n",
       "<table border=\"1\" class=\"dataframe\">\n",
       "  <thead>\n",
       "    <tr style=\"text-align: right;\">\n",
       "      <th></th>\n",
       "      <th>PhraseId</th>\n",
       "      <th>SentenceId</th>\n",
       "      <th>Phrase</th>\n",
       "      <th>Sentiment</th>\n",
       "    </tr>\n",
       "  </thead>\n",
       "  <tbody>\n",
       "    <tr>\n",
       "      <th>1</th>\n",
       "      <td>2</td>\n",
       "      <td>1</td>\n",
       "      <td>A series of escapades demonstrating the adage ...</td>\n",
       "      <td>2</td>\n",
       "    </tr>\n",
       "    <tr>\n",
       "      <th>2</th>\n",
       "      <td>3</td>\n",
       "      <td>1</td>\n",
       "      <td>A series</td>\n",
       "      <td>2</td>\n",
       "    </tr>\n",
       "    <tr>\n",
       "      <th>3</th>\n",
       "      <td>4</td>\n",
       "      <td>1</td>\n",
       "      <td>A</td>\n",
       "      <td>2</td>\n",
       "    </tr>\n",
       "    <tr>\n",
       "      <th>4</th>\n",
       "      <td>5</td>\n",
       "      <td>1</td>\n",
       "      <td>series</td>\n",
       "      <td>2</td>\n",
       "    </tr>\n",
       "    <tr>\n",
       "      <th>5</th>\n",
       "      <td>6</td>\n",
       "      <td>1</td>\n",
       "      <td>of escapades demonstrating the adage that what...</td>\n",
       "      <td>2</td>\n",
       "    </tr>\n",
       "    <tr>\n",
       "      <th>6</th>\n",
       "      <td>7</td>\n",
       "      <td>1</td>\n",
       "      <td>of</td>\n",
       "      <td>2</td>\n",
       "    </tr>\n",
       "    <tr>\n",
       "      <th>7</th>\n",
       "      <td>8</td>\n",
       "      <td>1</td>\n",
       "      <td>escapades demonstrating the adage that what is...</td>\n",
       "      <td>2</td>\n",
       "    </tr>\n",
       "    <tr>\n",
       "      <th>8</th>\n",
       "      <td>9</td>\n",
       "      <td>1</td>\n",
       "      <td>escapades</td>\n",
       "      <td>2</td>\n",
       "    </tr>\n",
       "    <tr>\n",
       "      <th>9</th>\n",
       "      <td>10</td>\n",
       "      <td>1</td>\n",
       "      <td>demonstrating the adage that what is good for ...</td>\n",
       "      <td>2</td>\n",
       "    </tr>\n",
       "    <tr>\n",
       "      <th>10</th>\n",
       "      <td>11</td>\n",
       "      <td>1</td>\n",
       "      <td>demonstrating the adage</td>\n",
       "      <td>2</td>\n",
       "    </tr>\n",
       "  </tbody>\n",
       "</table>\n",
       "</div>"
      ],
      "text/plain": [
       "    PhraseId  SentenceId                                             Phrase  \\\n",
       "1          2           1  A series of escapades demonstrating the adage ...   \n",
       "2          3           1                                           A series   \n",
       "3          4           1                                                  A   \n",
       "4          5           1                                             series   \n",
       "5          6           1  of escapades demonstrating the adage that what...   \n",
       "6          7           1                                                 of   \n",
       "7          8           1  escapades demonstrating the adage that what is...   \n",
       "8          9           1                                          escapades   \n",
       "9         10           1  demonstrating the adage that what is good for ...   \n",
       "10        11           1                            demonstrating the adage   \n",
       "\n",
       "    Sentiment  \n",
       "1           2  \n",
       "2           2  \n",
       "3           2  \n",
       "4           2  \n",
       "5           2  \n",
       "6           2  \n",
       "7           2  \n",
       "8           2  \n",
       "9           2  \n",
       "10          2  "
      ]
     },
     "execution_count": 9,
     "metadata": {},
     "output_type": "execute_result"
    }
   ],
   "source": [
    "non_sentences_idx = [x for x in range(len(train)) if x not in sentences_dict]\n",
    "non_sentences = train.iloc[non_sentences_idx]\n",
    "non_sentences[0:10]"
   ]
  },
  {
   "cell_type": "code",
   "execution_count": 10,
   "metadata": {
    "collapsed": false
   },
   "outputs": [
    {
     "data": {
      "text/plain": [
       "<matplotlib.text.Text at 0x7f9d1e90dc10>"
      ]
     },
     "execution_count": 10,
     "metadata": {},
     "output_type": "execute_result"
    },
    {
     "data": {
      "image/png": "[encoded data removed]",
      "text/plain": [
       "<matplotlib.figure.Figure at 0x7f9d1eab9c90>"
      ]
     },
     "metadata": {},
     "output_type": "display_data"
    }
   ],
   "source": [
    "avg_sentiment = non_sentences.groupby(['SentenceId']).mean().Sentiment\n",
    "sns.kdeplot(avg_sentiment, label=\"Calculated Sentiment\")\n",
    "sns.kdeplot(sentences.Sentiment, label=\"Actual Sentiment\")\n",
    "plt.xlabel('Sentiment')\n",
    "plt.ylabel('Density')\n",
    "plt.title('Calculated and Actual Sentiment Levels')\n",
    "\n",
    "# len(sentences.Sentiment) - len(avg_sentiment)"
   ]
  },
  {
   "cell_type": "markdown",
   "metadata": {},
   "source": [
    "We also looked at negations and how they might affect the model that we will implement later. We looked at one phrase in particular: \"It's not a particularly good film.\" Although \"a particularly good film\" has a very positive sentiment (4), \"It's not a particularly good film\" causes the sentiment to drop to being negative (1). When we are designing our model, this is definitely something we should look out for."
   ]
  },
  {
   "cell_type": "code",
   "execution_count": 11,
   "metadata": {
    "collapsed": false
   },
   "outputs": [
    {
     "data": {
      "text/html": [
       "<div>\n",
       "<table border=\"1\" class=\"dataframe\">\n",
       "  <thead>\n",
       "    <tr style=\"text-align: right;\">\n",
       "      <th></th>\n",
       "      <th>PhraseId</th>\n",
       "      <th>SentenceId</th>\n",
       "      <th>Phrase</th>\n",
       "      <th>Sentiment</th>\n",
       "    </tr>\n",
       "  </thead>\n",
       "  <tbody>\n",
       "    <tr>\n",
       "      <th>848</th>\n",
       "      <td>849</td>\n",
       "      <td>32</td>\n",
       "      <td>Hampered -- no , paralyzed -- by a self-indulg...</td>\n",
       "      <td>0</td>\n",
       "    </tr>\n",
       "    <tr>\n",
       "      <th>1224</th>\n",
       "      <td>1225</td>\n",
       "      <td>46</td>\n",
       "      <td>Less the sensational true-crime hell-jaunt pur...</td>\n",
       "      <td>3</td>\n",
       "    </tr>\n",
       "    <tr>\n",
       "      <th>1400</th>\n",
       "      <td>1401</td>\n",
       "      <td>52</td>\n",
       "      <td>Finally coming down off of Miramax 's deep she...</td>\n",
       "      <td>2</td>\n",
       "    </tr>\n",
       "    <tr>\n",
       "      <th>1917</th>\n",
       "      <td>1918</td>\n",
       "      <td>71</td>\n",
       "      <td>But it has an ambition to say something about ...</td>\n",
       "      <td>1</td>\n",
       "    </tr>\n",
       "    <tr>\n",
       "      <th>2413</th>\n",
       "      <td>2414</td>\n",
       "      <td>93</td>\n",
       "      <td>Entertains not so much because of its music or...</td>\n",
       "      <td>1</td>\n",
       "    </tr>\n",
       "    <tr>\n",
       "      <th>2519</th>\n",
       "      <td>2520</td>\n",
       "      <td>97</td>\n",
       "      <td>`` Analyze That '' is one of those crass , con...</td>\n",
       "      <td>0</td>\n",
       "    </tr>\n",
       "    <tr>\n",
       "      <th>2580</th>\n",
       "      <td>2581</td>\n",
       "      <td>99</td>\n",
       "      <td>It 's not a particularly good film , but neith...</td>\n",
       "      <td>2</td>\n",
       "    </tr>\n",
       "    <tr>\n",
       "      <th>2971</th>\n",
       "      <td>2972</td>\n",
       "      <td>113</td>\n",
       "      <td>The whole film has this sneaky feel to it -- a...</td>\n",
       "      <td>0</td>\n",
       "    </tr>\n",
       "    <tr>\n",
       "      <th>3064</th>\n",
       "      <td>3065</td>\n",
       "      <td>115</td>\n",
       "      <td>Swinging , the film makes it seem , is not a h...</td>\n",
       "      <td>1</td>\n",
       "    </tr>\n",
       "    <tr>\n",
       "      <th>3904</th>\n",
       "      <td>3905</td>\n",
       "      <td>149</td>\n",
       "      <td>Because Eight Legged Freaks is partly an homag...</td>\n",
       "      <td>2</td>\n",
       "    </tr>\n",
       "  </tbody>\n",
       "</table>\n",
       "</div>"
      ],
      "text/plain": [
       "      PhraseId  SentenceId                                             Phrase  \\\n",
       "848        849          32  Hampered -- no , paralyzed -- by a self-indulg...   \n",
       "1224      1225          46  Less the sensational true-crime hell-jaunt pur...   \n",
       "1400      1401          52  Finally coming down off of Miramax 's deep she...   \n",
       "1917      1918          71  But it has an ambition to say something about ...   \n",
       "2413      2414          93  Entertains not so much because of its music or...   \n",
       "2519      2520          97  `` Analyze That '' is one of those crass , con...   \n",
       "2580      2581          99  It 's not a particularly good film , but neith...   \n",
       "2971      2972         113  The whole film has this sneaky feel to it -- a...   \n",
       "3064      3065         115  Swinging , the film makes it seem , is not a h...   \n",
       "3904      3905         149  Because Eight Legged Freaks is partly an homag...   \n",
       "\n",
       "      Sentiment  \n",
       "848           0  \n",
       "1224          3  \n",
       "1400          2  \n",
       "1917          1  \n",
       "2413          1  \n",
       "2519          0  \n",
       "2580          2  \n",
       "2971          0  \n",
       "3064          1  \n",
       "3904          2  "
      ]
     },
     "execution_count": 11,
     "metadata": {},
     "output_type": "execute_result"
    }
   ],
   "source": [
    "sentences[sentences.Phrase.str.contains('no |not ')][0:10]"
   ]
  },
  {
   "cell_type": "code",
   "execution_count": 12,
   "metadata": {
    "collapsed": false
   },
   "outputs": [
    {
     "name": "stdout",
     "output_type": "stream",
     "text": [
      "2587    4\n",
      "Name: Sentiment, dtype: int64\n",
      "2584    1\n",
      "Name: Sentiment, dtype: int64\n"
     ]
    }
   ],
   "source": [
    "print train[train.Phrase == \"a particularly good film\"].Sentiment\n",
    "print train[train.Phrase == \"It 's not a particularly good film\"].Sentiment"
   ]
  },
  {
   "cell_type": "markdown",
   "metadata": {},
   "source": [
    "We also made some attempts to clean the code for future use. For this intial exploration, we removed all commas, periods, and apostrophes with leading or following spaces. We also removed emptry strings from the data."
   ]
  },
  {
   "cell_type": "code",
   "execution_count": 13,
   "metadata": {
    "collapsed": false
   },
   "outputs": [
    {
     "name": "stdout",
     "output_type": "stream",
     "text": [
      "Empty Strings Removed: 16076\n"
     ]
    }
   ],
   "source": [
    "# looks for any commas, periods, and apostrophes with any leading or following spaces\n",
    "remove_punct = r'(( )*((\\.)|(\\'s*)|(,))( )*)'\n",
    "\n",
    "# remove leading and trailing spaces\n",
    "remove_spaces = r'(^( )*)|(( )*$)'\n",
    "\n",
    "# replaces the pattern mentioned above with a single space\n",
    "train['Phrase'] = train['Phrase'].str.replace(remove_punct, ' ')\n",
    "train = train[train['Phrase'] != ' ']\n",
    "train['Phrase'] = train['Phrase'].str.replace(remove_spaces, '')\n",
    "\n",
    "# Removes empty string phrases from the list\n",
    "B = []\n",
    "before = \"\"\n",
    "for r in train['Phrase']:\n",
    "    if r != before:\n",
    "        B.append(True)\n",
    "        before = r\n",
    "    else:\n",
    "        B.append(False)\n",
    "train = train[B]\n",
    "\n",
    "print \"Empty Strings Removed: \" + str(len(B) - sum(B))"
   ]
  },
  {
   "cell_type": "markdown",
   "metadata": {
    "collapsed": true
   },
   "source": [
    "Finally, we tried to take advantage of the fact that the data is organized as a binary tree, in order to better visualize the data. We performed something like a depth-first-search on the dataset to generate the binary tree with pydot."
   ]
  },
  {
   "cell_type": "code",
   "execution_count": 14,
   "metadata": {
    "collapsed": true
   },
   "outputs": [],
   "source": [
    "class Node:\n",
    "    def __init__(self, phrase, parent, left, right):\n",
    "        self.parent = parent\n",
    "        self.left = left\n",
    "        self.right = right\n",
    "        self.phrase = phrase\n",
    "        self.node = 0"
   ]
  },
  {
   "cell_type": "code",
   "execution_count": 15,
   "metadata": {
    "collapsed": false
   },
   "outputs": [
    {
     "name": "stdout",
     "output_type": "stream",
     "text": [
      "[('This quiet introspective and entertaining independent', 3), ('This', 2), ('quiet introspective and entertaining independent', 4), ('quiet introspective and entertaining', 3), ('quiet', 2), ('introspective and entertaining', 3), ('introspective and', 3), ('introspective', 2), ('and', 2), ('entertaining', 4), ('independent', 2), ('is worth seeking', 3), ('is worth', 2), ('worth', 2), ('seeking', 2)]\n"
     ]
    }
   ],
   "source": [
    "phr = []\n",
    "phr2 = []\n",
    "top80 = train['Phrase'].head(80)\n",
    "top80_senti = train['Sentiment'].head(80)\n",
    "\n",
    "j = 0\n",
    "for r1, r2 in zip(top80, top80_senti):\n",
    "    if j > 59 and j <= 74:\n",
    "        phr.append(r1)\n",
    "        phr2.append((r1, r2))\n",
    "    j += 1\n",
    "print phr2"
   ]
  },
  {
   "cell_type": "code",
   "execution_count": 16,
   "metadata": {
    "collapsed": false
   },
   "outputs": [],
   "source": [
    "import pydot\n",
    "\n",
    "colors = {1: \"#F183B3\", 2: \"#E26E6E\", 3: \"#DB1F2A\", 4: \"#FF1100\", 5: \"#CA002A\"}\n",
    "\n",
    "def make_phrase_ptree(root, phrases, graph):\n",
    "    if len(phrases) == 0:\n",
    "        print \"error: ran out of phrases\"\n",
    "        return\n",
    "    if ' ' not in root.phrase:\n",
    "        make_phrase_ptree(root.parent, phrases, graph)\n",
    "    elif root.left == 0:\n",
    "        root.left = Node(phrases[0], root, 0, 0)\n",
    "        edge = pydot.Edge(root.phrase, phrases[0])\n",
    "        graph.add_edge(edge)\n",
    "        make_phrase_ptree(root.left, phrases[1:], graph)\n",
    "    elif root.right == 0:\n",
    "        root.right = Node(phrases[0], root, 0, 0)\n",
    "        edge = pydot.Edge(root.phrase, phrases[0])\n",
    "        graph.add_edge(edge)\n",
    "        make_phrase_ptree(root.right, phrases[1:], graph)\n",
    "    elif root.parent == 0:\n",
    "        return root\n",
    "    else:\n",
    "        make_phrase_ptree(root.parent, phrases, graph)\n",
    "        \n",
    "def make_sentiment_ptree(root, phrases, graph):\n",
    "    print phrases[0]\n",
    "    if len(phrases) == 0:\n",
    "        print \"error: ran out of phrases\"\n",
    "        return\n",
    "    if ' ' not in root.phrase:\n",
    "        print 'got here'\n",
    "        make_sentiment_ptree(root.parent, phrases, graph)\n",
    "    elif root.left == 0:\n",
    "        root.left = Node(phrases[0][0], root, 0, 0)\n",
    "        root.left.node = pydot.Node(phrases[0][0], style=\"filled\", fillcolor=colors[phrases[0][1]])\n",
    "        graph.add_node(root.left.node)\n",
    "        graph.add_edge(pydot.Edge(root.node, root.left.node))\n",
    "        make_sentiment_ptree(root.left, phrases[1:], graph)\n",
    "    elif root.right == 0:\n",
    "        root.right = Node(phrases[0][0], root, 0, 0)\n",
    "        root.right.node = pydot.Node(phrases[0][0], style=\"filled\", fillcolor=colors[phrases[0][1]])\n",
    "        graph.add_node(root.right.node)\n",
    "        graph.add_edge(pydot.Edge(root.node, root.right.node))\n",
    "        make_sentiment_ptree(root.left, phrases[1:], graph)\n",
    "    elif root.parent == 0:\n",
    "        return root\n",
    "    else:\n",
    "        make_sentiment_ptree(root.parent, phrases, graph)"
   ]
  },
  {
   "cell_type": "code",
   "execution_count": 17,
   "metadata": {
    "collapsed": false
   },
   "outputs": [
    {
     "name": "stdout",
     "output_type": "stream",
     "text": [
      "('This quiet introspective and entertaining independent', 3)\n",
      "('This', 2)\n",
      "('quiet introspective and entertaining independent', 4)\n",
      "got here\n",
      "('quiet introspective and entertaining independent', 4)\n",
      "('quiet introspective and entertaining', 3)\n",
      "got here\n",
      "('quiet introspective and entertaining', 3)\n",
      "('quiet introspective and entertaining', 3)\n",
      "('quiet', 2)\n",
      "('quiet', 2)\n"
     ]
    }
   ],
   "source": [
    "root = Node(\"This quiet introspective and entertaining independent is worth seeking\", 0, 0, 0)\n",
    "grph = pydot.Dot(graph_type='graph')\n",
    "grph2 = pydot.Dot(graph_type='digraph')\n",
    "root.node = pydot.Node(phr2[0][0], style=\"filled\", fillcolor=\"green\")\n",
    "grph2.add_node(root.node)\n",
    "#root2 = make_phrase_ptree(root, phr, grph)\n",
    "root3 = make_sentiment_ptree(root, phr2, grph2)"
   ]
  },
  {
   "cell_type": "code",
   "execution_count": 18,
   "metadata": {
    "collapsed": false
   },
   "outputs": [
    {
     "data": {
      "text/plain": [
       "True"
      ]
     },
     "execution_count": 18,
     "metadata": {},
     "output_type": "execute_result"
    }
   ],
   "source": [
    "grph2.write_png('ex.png')"
   ]
  },
  {
   "cell_type": "markdown",
   "metadata": {},
   "source": [
    "The resulting binary graph is saved in 'ex.png'"
   ]
  }
 ],
 "metadata": {
  "kernelspec": {
   "display_name": "Python 2",
   "language": "python",
   "name": "python2"
  },
  "language_info": {
   "codemirror_mode": {
    "name": "ipython",
    "version": 2
   },
   "file_extension": ".py",
   "mimetype": "text/x-python",
   "name": "python",
   "nbconvert_exporter": "python",
   "pygments_lexer": "ipython2",
   "version": "2.7.11"
  }
 },
 "nbformat": 4,
 "nbformat_minor": 0
}
