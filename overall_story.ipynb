{
 "cells": [
  {
   "cell_type": "code",
   "execution_count": 95,
   "metadata": {
    "collapsed": false
   },
   "outputs": [],
   "source": [
    "import pandas as pd\n",
    "import numpy as np\n",
    "import re\n",
    "import string\n",
    "import nltk\n",
    "from nltk.tag.perceptron import PerceptronTagger\n",
    "import pattern.en"
   ]
  },
  {
   "cell_type": "code",
   "execution_count": 3,
   "metadata": {
    "collapsed": false
   },
   "outputs": [
    {
     "data": {
      "text/html": [
       "<div>\n",
       "<table border=\"1\" class=\"dataframe\">\n",
       "  <thead>\n",
       "    <tr style=\"text-align: right;\">\n",
       "      <th></th>\n",
       "      <th>PhraseId</th>\n",
       "      <th>SentenceId</th>\n",
       "      <th>Phrase</th>\n",
       "    </tr>\n",
       "  </thead>\n",
       "  <tbody>\n",
       "    <tr>\n",
       "      <th>0</th>\n",
       "      <td>156061</td>\n",
       "      <td>8545</td>\n",
       "      <td>An intermittently pleasing but mostly routine ...</td>\n",
       "    </tr>\n",
       "    <tr>\n",
       "      <th>1</th>\n",
       "      <td>156062</td>\n",
       "      <td>8545</td>\n",
       "      <td>An intermittently pleasing but mostly routine ...</td>\n",
       "    </tr>\n",
       "    <tr>\n",
       "      <th>2</th>\n",
       "      <td>156063</td>\n",
       "      <td>8545</td>\n",
       "      <td>An</td>\n",
       "    </tr>\n",
       "    <tr>\n",
       "      <th>3</th>\n",
       "      <td>156064</td>\n",
       "      <td>8545</td>\n",
       "      <td>intermittently pleasing but mostly routine effort</td>\n",
       "    </tr>\n",
       "    <tr>\n",
       "      <th>4</th>\n",
       "      <td>156065</td>\n",
       "      <td>8545</td>\n",
       "      <td>intermittently pleasing but mostly routine</td>\n",
       "    </tr>\n",
       "  </tbody>\n",
       "</table>\n",
       "</div>"
      ],
      "text/plain": [
       "   PhraseId  SentenceId                                             Phrase\n",
       "0    156061        8545  An intermittently pleasing but mostly routine ...\n",
       "1    156062        8545  An intermittently pleasing but mostly routine ...\n",
       "2    156063        8545                                                 An\n",
       "3    156064        8545  intermittently pleasing but mostly routine effort\n",
       "4    156065        8545         intermittently pleasing but mostly routine"
      ]
     },
     "execution_count": 3,
     "metadata": {},
     "output_type": "execute_result"
    }
   ],
   "source": [
    "train = pd.read_csv('train.tsv', sep='\\t')\n",
    "test = pd.read_csv('test.tsv', sep='\\t')\n",
    "\n",
    "test.head()"
   ]
  },
  {
   "cell_type": "markdown",
   "metadata": {},
   "source": [
    "# First Attempt"
   ]
  },
  {
   "cell_type": "markdown",
   "metadata": {},
   "source": [
    "First, we extracted only single words from the training data and saved their sentiment into a dictionary. From our data exploration, we noticed that entire sentences could consist of mostly neutral words, but one key positive or negative term will completely change the sentiment of the sentence. So, for each test sentence, we calculated the sentiment by extracting all the words and just using the sentiment of the word with the most extreme sentiment. It's also worth noting that all of the words in the test data are in the corpus."
   ]
  },
  {
   "cell_type": "code",
   "execution_count": 84,
   "metadata": {
    "collapsed": false
   },
   "outputs": [],
   "source": [
    "# Extracts one-word phrases using a regular expression\n",
    "single_words = train[~train.Phrase.str.contains(' ')]\n",
    "single_words = single_words[single_words.Phrase.str.contains('^[a-zA-Z]+$')]\n",
    "single_words.Phrase = single_words.Phrase.str.lower()\n",
    "\n",
    "# Creates a dictionary mapping words -> sentiment\n",
    "phrase_iter =single_words.Phrase.values\n",
    "sent_iter = single_words.Sentiment.values\n",
    "corpus = dict(zip(phrase_iter, sent_iter))"
   ]
  },
  {
   "cell_type": "code",
   "execution_count": 85,
   "metadata": {
    "collapsed": true
   },
   "outputs": [],
   "source": [
    "import re\n",
    "\n",
    "def prepend_NOT(match):\n",
    "    \"\"\"\n",
    "    A function that feeds into a regular expression substitution function\n",
    "    that prepends all words after a negation word (i.e. \"didn't\" and\n",
    "    \"not\") with \"NOT_\".\n",
    "    \"\"\"\n",
    "    match = match.group()\n",
    "    words = match.split(\" \")\n",
    "    negation = words[0]\n",
    "    del words[0]\n",
    "    new_words = [\"NOT_\" + word for word in words]\n",
    "    return negation + \" \" + \" \".join(new_words)\n",
    "\n",
    "\n",
    "def substitute_negations(phrase):\n",
    "    \"\"\"\n",
    "    Replaces input phrase with the same phrase, except prepending a \"NOT_\"\n",
    "    for every word after a negation word (i.e. \"didn't\" and \"not\"). This\n",
    "    can only occur in phrases with more than one word.\n",
    "    \"\"\"\n",
    "    # negation_words is a list of regular expressions\n",
    "    negation_words = [r\"not\", r\"n't\", r\"no\"]\n",
    "    \n",
    "    # negation_words then gets turned into a regular expression string\n",
    "    negation_words = [r\"(\" + word + r\")\" for word in negation_words]\n",
    "    negation_words = (r\"|\").join(negation_words)\n",
    "    \n",
    "    negations_re = re.compile(r\"(\" + negation_words + r\")[A-z ']*\")\n",
    "    substitution = negations_re.sub(prepend_NOT, phrase)\n",
    "    \n",
    "    if substitution == \"\":\n",
    "        return phrase\n",
    "    return substitution\n",
    "\n",
    "\n",
    "def add_NOT_to_negations(df):\n",
    "    \"\"\"\n",
    "    Replaces each phrase in the dataframe with the same phrase, but\n",
    "    replacing every word after a negation word (i.e. \"didn't\" and \"not\")\n",
    "    with \"NOT_\" prepended to the word. This can only occur in phrases\n",
    "    with more than one word.\n",
    "    \"\"\"\n",
    "    data = df\n",
    "    data[\"Negations\"] = data[\"Phrase\"].apply(lambda x: substitute_negations(x))\n",
    "    return data\n",
    "\n",
    "train = add_NOT_to_negations(train)\n",
    "test = add_NOT_to_negations(test)"
   ]
  },
  {
   "cell_type": "code",
   "execution_count": 86,
   "metadata": {
    "collapsed": false
   },
   "outputs": [
    {
     "name": "stdout",
     "output_type": "stream",
     "text": [
      "not good = negative sentiment: 1\n",
      "not bad = positive sentiment: 4\n"
     ]
    }
   ],
   "source": [
    "# Generates a corpus of all the negated words\n",
    "not_corpus = {}\n",
    "for w in corpus:\n",
    "    words = w.split()\n",
    "    if len(words) == 1:\n",
    "        not_corpus[\"NOT_\" + w] = abs(4 - corpus[w])\n",
    "    elif len(words) == 2:\n",
    "        not_corpus[\"NOT_\" + words[0] + \" NOT_\" + words[1]] = abs(4 - corpus[w])\n",
    "    \n",
    "print \"not good = negative sentiment: \" + str(not_corpus[\"NOT_good\"])\n",
    "print \"not bad = positive sentiment: \" + str(not_corpus[\"NOT_bad\"])"
   ]
  },
  {
   "cell_type": "code",
   "execution_count": 87,
   "metadata": {
    "collapsed": false
   },
   "outputs": [
    {
     "name": "stdout",
     "output_type": "stream",
     "text": [
      "Pr{Sentiment 0}: 0.0453\n",
      "Pr{Sentiment 1}: 0.1747\n",
      "Pr{Sentiment 2}: 0.5099\n",
      "Pr{Sentiment 3}: 0.2109\n",
      "Pr{Sentiment 4}: 0.0589\n"
     ]
    }
   ],
   "source": [
    "# Calculates the probability of any given phrase having a particular sentiment\n",
    "P_c = []\n",
    "for i in range(5):\n",
    "    prob = len(train[train.Sentiment == i]) / float(len(train))\n",
    "    P_c.append(prob)\n",
    "    \n",
    "print \"Pr{Sentiment 0}: \" + str(P_c[0])[:6]\n",
    "print \"Pr{Sentiment 1}: \" + str(P_c[1])[:6]\n",
    "print \"Pr{Sentiment 2}: \" + str(P_c[2])[:6]\n",
    "print \"Pr{Sentiment 3}: \" + str(P_c[3])[:6]\n",
    "print \"Pr{Sentiment 4}: \" + str(P_c[4])[:6]"
   ]
  },
  {
   "cell_type": "code",
   "execution_count": 88,
   "metadata": {
    "collapsed": false
   },
   "outputs": [
    {
     "name": "stdout",
     "output_type": "stream",
     "text": [
      "How many times does the word \"exciting\" appear in sentiment 4 phrases?\n",
      "8\n"
     ]
    }
   ],
   "source": [
    "# Extracts just the sentences from the dataset and combines them into mega-strings\n",
    "sentences_dict = train['SentenceId'].drop_duplicates()\n",
    "sentences = train.iloc[sentences_dict.keys()]\n",
    "sentences.head()\n",
    "\n",
    "# For each sentiment's mega-string, counts the number of times each word appears\n",
    "text = []\n",
    "for i in range(5):\n",
    "    d = {}\n",
    "    temp = sentences[sentences.Sentiment == i]\n",
    "    words_in_class = ' '.join(temp.Phrase.values).lower().split()\n",
    "    for w in words_in_class:\n",
    "        new_word = w.lower().strip('.,;!?\"()')\n",
    "        if not new_word.strip(string.ascii_letters) and new_word != '':\n",
    "            d[new_word] = d.get(new_word,0) + 1\n",
    "\n",
    "    text.append(d)\n",
    "\n",
    "print \"How many times does the word \\\"exciting\\\" appear in sentiment 4 phrases?\"\n",
    "print text[4]['exciting']"
   ]
  },
  {
   "cell_type": "code",
   "execution_count": 89,
   "metadata": {
    "collapsed": false
   },
   "outputs": [
    {
     "name": "stdout",
     "output_type": "stream",
     "text": [
      "Probability of the word \"yellow\" appearing in a sentiment 2 phrase: \n",
      "5.01957634776e-05\n"
     ]
    }
   ],
   "source": [
    "# Calculates the probability of a word being in a particular class for every word in the corpus\n",
    "P_wc = []\n",
    "alpha = 1.0 # Laplace smoothing\n",
    "for d in text:\n",
    "    n_words_in_class = sum(d.values())\n",
    "    new_dict = {}\n",
    "    for w in corpus:\n",
    "        if w in d:\n",
    "            new_dict[w] = (d[w] + alpha) / (n_words_in_class + alpha*len(corpus))\n",
    "        else:\n",
    "            new_dict[w] = alpha / len(corpus)\n",
    "    for w in not_corpus:\n",
    "        if w in d:\n",
    "            new_dict[w] = (d[w] + alpha) / (n_words_in_class + alpha*len(corpus))\n",
    "        else:\n",
    "            new_dict[w] = alpha / len(corpus)\n",
    "    P_wc.append(new_dict)\n",
    "    \n",
    "print \"Probability of the word \\\"yellow\\\" appearing in a sentiment 2 phrase: \"\n",
    "print P_wc[2]['yellow']"
   ]
  },
  {
   "cell_type": "markdown",
   "metadata": {},
   "source": [
    "Now that the right probability values have been calculated, the Naive Bayes method must first extract all of the words in the phrase. For each sentiment class, the algorithm gets $P(w\\:|\\:c)$ for each word in the phrase and multiplies all of the probabilities together. This product then gets multiplied by $P(c)$. The overall equation looks like the following:\n",
    "\n",
    "$c = \\max_\\limits{c\\:\\in\\:C}\\:\\Big( P(c)\\: \\cdot \\prod_\\limits{x\\:\\in\\:X} P(x\\:|\\:c)\\Big)$"
   ]
  },
  {
   "cell_type": "code",
   "execution_count": 107,
   "metadata": {
    "collapsed": false
   },
   "outputs": [],
   "source": [
    "''' Splits the phrase into a list of words '''\n",
    "def get_words(phrase):\n",
    "    words = phrase.split()\n",
    "    new_words = []\n",
    "    for w in words:\n",
    "        new_words.append(w.lower().strip('.,;!?\"()'))\n",
    "    \n",
    "    return new_words\n",
    "\n",
    "''' Calculates the sentiment of a phrase using a Naive bayes classifier '''\n",
    "def naive_bayes(phrase):\n",
    "    if phrase in corpus:\n",
    "        return corpus[phrase]\n",
    "    if phrase in not_corpus:\n",
    "        return not_corpus[phrase]\n",
    "    \n",
    "    P_cw = 0 # Probability that the phrase has a sentiment c\n",
    "    words = get_words(phrase)\n",
    "    \n",
    "    for s in range(5):\n",
    "        # Probability of the sentiment occurring\n",
    "        prob = P_c[s]\n",
    "        \n",
    "        # Probability of the word appearing in the sentiment class\n",
    "        for w in words:\n",
    "            if w in corpus or w in not_corpus:\n",
    "                prob *= P_wc[s][w]\n",
    "            \n",
    "        if prob > P_cw:\n",
    "            P_cw = prob\n",
    "            sentiment = s\n",
    "            \n",
    "    if sentiment == 2:\n",
    "        pattern_sent = pattern.en.sentiment(phrase)[0]\n",
    "        if abs(pattern_sent) > 0.1:\n",
    "            sentiment = int(round(pattern_sent * 2)) + sentiment\n",
    "        \n",
    "    return sentiment"
   ]
  },
  {
   "cell_type": "markdown",
   "metadata": {},
   "source": [
    "After applying the Naive Bayes classifier to the training data, we got about the same accuracy as for the first attempt."
   ]
  },
  {
   "cell_type": "code",
   "execution_count": 108,
   "metadata": {
    "collapsed": false
   },
   "outputs": [
    {
     "name": "stdout",
     "output_type": "stream",
     "text": [
      "Train accuracy: 0.54651416122\n"
     ]
    }
   ],
   "source": [
    "train[\"Predictions\"] = train.Phrase.apply(naive_bayes)\n",
    "print \"Train accuracy: \" + str(len(train[train.Sentiment == train.Predictions]) / float(len(train)))"
   ]
  },
  {
   "cell_type": "code",
   "execution_count": 109,
   "metadata": {
    "collapsed": true
   },
   "outputs": [],
   "source": [
    "# Generates the csv file\n",
    "predictions = test.Phrase.apply(naive_bayes)\n",
    "submission = pd.DataFrame({\n",
    "        \"PhraseId\": test[\"PhraseId\"],\n",
    "        \"Sentiment\": predictions\n",
    "    })\n",
    "\n",
    "submission.to_csv(\"final_iteration.csv\", index=False)"
   ]
  },
  {
   "cell_type": "markdown",
   "metadata": {},
   "source": [
    "The score we got on Kaggle for this submission was 52.682%, which is slightly lower than before."
   ]
  },
  {
   "cell_type": "markdown",
   "metadata": {
    "collapsed": true
   },
   "source": [
    "# Part of Speech Tagging"
   ]
  },
  {
   "cell_type": "markdown",
   "metadata": {},
   "source": [
    "Using NLTK's tagging package, we created a new Pandas series that stores the part of speech of each word in the sentence. Though we weren't able to to do much with that data, we think it will come in handy for a future iteration."
   ]
  },
  {
   "cell_type": "code",
   "execution_count": 13,
   "metadata": {
    "collapsed": false
   },
   "outputs": [
    {
     "name": "stderr",
     "output_type": "stream",
     "text": [
      "/home/wooj/anaconda2/lib/python2.7/site-packages/ipykernel/__main__.py:7: SettingWithCopyWarning: \n",
      "A value is trying to be set on a copy of a slice from a DataFrame.\n",
      "Try using .loc[row_indexer,col_indexer] = value instead\n",
      "\n",
      "See the caveats in the documentation: http://pandas.pydata.org/pandas-docs/stable/indexing.html#indexing-view-versus-copy\n"
     ]
    },
    {
     "data": {
      "text/html": [
       "<div>\n",
       "<table border=\"1\" class=\"dataframe\">\n",
       "  <thead>\n",
       "    <tr style=\"text-align: right;\">\n",
       "      <th></th>\n",
       "      <th>PhraseId</th>\n",
       "      <th>SentenceId</th>\n",
       "      <th>Phrase</th>\n",
       "      <th>Sentiment</th>\n",
       "      <th>Negations</th>\n",
       "      <th>POS</th>\n",
       "    </tr>\n",
       "  </thead>\n",
       "  <tbody>\n",
       "    <tr>\n",
       "      <th>0</th>\n",
       "      <td>1</td>\n",
       "      <td>1</td>\n",
       "      <td>A series of escapades demonstrating the adage ...</td>\n",
       "      <td>1</td>\n",
       "      <td>A series of escapades demonstrating the adage ...</td>\n",
       "      <td>[(A, DT), (series, NN), (of, IN), (escapades, ...</td>\n",
       "    </tr>\n",
       "    <tr>\n",
       "      <th>63</th>\n",
       "      <td>64</td>\n",
       "      <td>2</td>\n",
       "      <td>This quiet , introspective and entertaining in...</td>\n",
       "      <td>4</td>\n",
       "      <td>This quiet , introspective and entertaining in...</td>\n",
       "      <td>[(This, DT), (quiet, JJ), (,, ,), (introspecti...</td>\n",
       "    </tr>\n",
       "    <tr>\n",
       "      <th>81</th>\n",
       "      <td>82</td>\n",
       "      <td>3</td>\n",
       "      <td>Even fans of Ismail Merchant 's work , I suspe...</td>\n",
       "      <td>1</td>\n",
       "      <td>Even fans of Ismail Merchant 's work , I suspe...</td>\n",
       "      <td>[(Even, RB), (fans, NNS), (of, IN), (Ismail, N...</td>\n",
       "    </tr>\n",
       "    <tr>\n",
       "      <th>116</th>\n",
       "      <td>117</td>\n",
       "      <td>4</td>\n",
       "      <td>A positively thrilling combination of ethnogra...</td>\n",
       "      <td>3</td>\n",
       "      <td>A positively thrilling combination of ethnogra...</td>\n",
       "      <td>[(A, DT), (positively, RB), (thrilling, VBG), ...</td>\n",
       "    </tr>\n",
       "    <tr>\n",
       "      <th>156</th>\n",
       "      <td>157</td>\n",
       "      <td>5</td>\n",
       "      <td>Aggressive self-glorification and a manipulati...</td>\n",
       "      <td>1</td>\n",
       "      <td>Aggressive self-glorification and a manipulati...</td>\n",
       "      <td>[(Aggressive, JJ), (self-glorification, NN), (...</td>\n",
       "    </tr>\n",
       "    <tr>\n",
       "      <th>166</th>\n",
       "      <td>167</td>\n",
       "      <td>6</td>\n",
       "      <td>A comedy-drama of nearly epic proportions root...</td>\n",
       "      <td>4</td>\n",
       "      <td>A comedy-drama of nearly epic proportions root...</td>\n",
       "      <td>[(A, DT), (comedy-drama, NN), (of, IN), (nearl...</td>\n",
       "    </tr>\n",
       "    <tr>\n",
       "      <th>198</th>\n",
       "      <td>199</td>\n",
       "      <td>7</td>\n",
       "      <td>Narratively , Trouble Every Day is a plodding ...</td>\n",
       "      <td>1</td>\n",
       "      <td>Narratively , Trouble Every Day is a plodding ...</td>\n",
       "      <td>[(Narratively, RB), (,, ,), (Trouble, JJ), (Ev...</td>\n",
       "    </tr>\n",
       "    <tr>\n",
       "      <th>213</th>\n",
       "      <td>214</td>\n",
       "      <td>8</td>\n",
       "      <td>The Importance of Being Earnest , so thick wit...</td>\n",
       "      <td>3</td>\n",
       "      <td>The Importance of Being Earnest , so thick wit...</td>\n",
       "      <td>[(The, DT), (Importance, NN), (of, IN), (Being...</td>\n",
       "    </tr>\n",
       "    <tr>\n",
       "      <th>247</th>\n",
       "      <td>248</td>\n",
       "      <td>9</td>\n",
       "      <td>But it does n't leave you with much .</td>\n",
       "      <td>1</td>\n",
       "      <td>But it does n't NOT_leave NOT_you NOT_with NOT...</td>\n",
       "      <td>[(But, CC), (it, PRP), (does, VBZ), (n't, RB),...</td>\n",
       "    </tr>\n",
       "    <tr>\n",
       "      <th>259</th>\n",
       "      <td>260</td>\n",
       "      <td>10</td>\n",
       "      <td>You could hate it for the same reason .</td>\n",
       "      <td>1</td>\n",
       "      <td>You could hate it for the same reason .</td>\n",
       "      <td>[(You, PRP), (could, MD), (hate, VB), (it, PRP...</td>\n",
       "    </tr>\n",
       "  </tbody>\n",
       "</table>\n",
       "</div>"
      ],
      "text/plain": [
       "     PhraseId  SentenceId                                             Phrase  \\\n",
       "0           1           1  A series of escapades demonstrating the adage ...   \n",
       "63         64           2  This quiet , introspective and entertaining in...   \n",
       "81         82           3  Even fans of Ismail Merchant 's work , I suspe...   \n",
       "116       117           4  A positively thrilling combination of ethnogra...   \n",
       "156       157           5  Aggressive self-glorification and a manipulati...   \n",
       "166       167           6  A comedy-drama of nearly epic proportions root...   \n",
       "198       199           7  Narratively , Trouble Every Day is a plodding ...   \n",
       "213       214           8  The Importance of Being Earnest , so thick wit...   \n",
       "247       248           9              But it does n't leave you with much .   \n",
       "259       260          10            You could hate it for the same reason .   \n",
       "\n",
       "     Sentiment                                          Negations  \\\n",
       "0            1  A series of escapades demonstrating the adage ...   \n",
       "63           4  This quiet , introspective and entertaining in...   \n",
       "81           1  Even fans of Ismail Merchant 's work , I suspe...   \n",
       "116          3  A positively thrilling combination of ethnogra...   \n",
       "156          1  Aggressive self-glorification and a manipulati...   \n",
       "166          4  A comedy-drama of nearly epic proportions root...   \n",
       "198          1  Narratively , Trouble Every Day is a plodding ...   \n",
       "213          3  The Importance of Being Earnest , so thick wit...   \n",
       "247          1  But it does n't NOT_leave NOT_you NOT_with NOT...   \n",
       "259          1            You could hate it for the same reason .   \n",
       "\n",
       "                                                   POS  \n",
       "0    [(A, DT), (series, NN), (of, IN), (escapades, ...  \n",
       "63   [(This, DT), (quiet, JJ), (,, ,), (introspecti...  \n",
       "81   [(Even, RB), (fans, NNS), (of, IN), (Ismail, N...  \n",
       "116  [(A, DT), (positively, RB), (thrilling, VBG), ...  \n",
       "156  [(Aggressive, JJ), (self-glorification, NN), (...  \n",
       "166  [(A, DT), (comedy-drama, NN), (of, IN), (nearl...  \n",
       "198  [(Narratively, RB), (,, ,), (Trouble, JJ), (Ev...  \n",
       "213  [(The, DT), (Importance, NN), (of, IN), (Being...  \n",
       "247  [(But, CC), (it, PRP), (does, VBZ), (n't, RB),...  \n",
       "259  [(You, PRP), (could, MD), (hate, VB), (it, PRP...  "
      ]
     },
     "execution_count": 13,
     "metadata": {},
     "output_type": "execute_result"
    }
   ],
   "source": [
    "# Load the tagger for faster tagging\n",
    "tagger = PerceptronTagger()\n",
    "\n",
    "\"\"\" Classifies each word in a phrase by part of speech \"\"\"\n",
    "def tag_sentences(df):\n",
    "    data = df\n",
    "    data[\"POS\"] = data[\"Phrase\"].apply(lambda x: nltk.tag._pos_tag(nltk.word_tokenize(x), None, tagger))\n",
    "    return data\n",
    "\n",
    "def tag_words(words, sentences):\n",
    "    possible_tags = ['CC', 'CD', 'DT', 'EX',\n",
    "                     'FW', 'IN', 'JJ', 'JJR',\n",
    "                     'JJS', 'LS', 'MD', 'NN',\n",
    "                     'NNP', 'NNPS', 'NNS', 'PDT',\n",
    "                     'POS', 'PRP', 'PRP$', 'RB',\n",
    "                     'RBR', 'RBS', 'RP', 'SYM',\n",
    "                     'TO', 'UH', 'VB', 'VBD',\n",
    "                     'VBG', 'VBN', 'VBP', 'VBZ',\n",
    "                     'WDT', 'WDT', 'WP', 'WP$',\n",
    "                     'WRB']\n",
    "    data = []\n",
    "    words_with_pos = words\n",
    "    j = 0\n",
    "    for sentence_id, sentence_pos in zip(sentences[\"SentenceId\"], sentences[\"POS\"]):\n",
    "        sentence_words = words[words[\"SentenceId\"] == sentence_id]\n",
    "        for sentence_word_pos in sentence_pos:\n",
    "            data.append(sentence_word_pos[1])\n",
    "            \n",
    "    for m,n in zip(words_with_pos.Phrase, data):\n",
    "        if j < 15:\n",
    "            print m, n\n",
    "            j += 1\n",
    "    words_with_pos[\"POS\"] = data\n",
    "    return words_with_pos\n",
    "\n",
    "tagged_sentences = tag_sentences(sentences)\n",
    "tagged_sentences.head(10)"
   ]
  },
  {
   "cell_type": "code",
   "execution_count": null,
   "metadata": {
    "collapsed": true
   },
   "outputs": [],
   "source": []
  }
 ],
 "metadata": {
  "kernelspec": {
   "display_name": "Python 2",
   "language": "python",
   "name": "python2"
  },
  "language_info": {
   "codemirror_mode": {
    "name": "ipython",
    "version": 2
   },
   "file_extension": ".py",
   "mimetype": "text/x-python",
   "name": "python",
   "nbconvert_exporter": "python",
   "pygments_lexer": "ipython2",
   "version": "2.7.11"
  }
 },
 "nbformat": 4,
 "nbformat_minor": 0
}
